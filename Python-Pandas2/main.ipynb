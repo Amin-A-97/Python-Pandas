{
 "cells": [
  {
   "cell_type": "code",
   "execution_count": 132,
   "metadata": {},
   "outputs": [
    {
     "data": {
      "text/html": [
       "<div>\n",
       "<style scoped>\n",
       "    .dataframe tbody tr th:only-of-type {\n",
       "        vertical-align: middle;\n",
       "    }\n",
       "\n",
       "    .dataframe tbody tr th {\n",
       "        vertical-align: top;\n",
       "    }\n",
       "\n",
       "    .dataframe thead th {\n",
       "        text-align: right;\n",
       "    }\n",
       "</style>\n",
       "<table border=\"1\" class=\"dataframe\">\n",
       "  <thead>\n",
       "    <tr style=\"text-align: right;\">\n",
       "      <th></th>\n",
       "      <th>name</th>\n",
       "      <th>year</th>\n",
       "      <th>rate</th>\n",
       "      <th>director</th>\n",
       "    </tr>\n",
       "  </thead>\n",
       "  <tbody>\n",
       "    <tr>\n",
       "      <th>0</th>\n",
       "      <td>Short Term 12</td>\n",
       "      <td>2013</td>\n",
       "      <td>7.9</td>\n",
       "      <td>Destin Daniel Cretton</td>\n",
       "    </tr>\n",
       "    <tr>\n",
       "      <th>1</th>\n",
       "      <td>Three Billboards Outside Ebbing, Missouri</td>\n",
       "      <td>2017</td>\n",
       "      <td>8.1</td>\n",
       "      <td>Martin McDonagh</td>\n",
       "    </tr>\n",
       "    <tr>\n",
       "      <th>2</th>\n",
       "      <td>Her</td>\n",
       "      <td>2013</td>\n",
       "      <td>8.0</td>\n",
       "      <td>Spike Jonze</td>\n",
       "    </tr>\n",
       "    <tr>\n",
       "      <th>3</th>\n",
       "      <td>Whiplash</td>\n",
       "      <td>2014</td>\n",
       "      <td>8.5</td>\n",
       "      <td>Damien Chazelle</td>\n",
       "    </tr>\n",
       "  </tbody>\n",
       "</table>\n",
       "</div>"
      ],
      "text/plain": [
       "                                        name  year  rate  \\\n",
       "0                              Short Term 12  2013   7.9   \n",
       "1  Three Billboards Outside Ebbing, Missouri  2017   8.1   \n",
       "2                                        Her  2013   8.0   \n",
       "3                                   Whiplash  2014   8.5   \n",
       "\n",
       "                director  \n",
       "0  Destin Daniel Cretton  \n",
       "1        Martin McDonagh  \n",
       "2            Spike Jonze  \n",
       "3        Damien Chazelle  "
      ]
     },
     "execution_count": 132,
     "metadata": {},
     "output_type": "execute_result"
    }
   ],
   "source": [
    "import pandas\n",
    "import json\n",
    "file = open(\"data2.json\")\n",
    "data = json.load(file)\n",
    "df = pandas.DataFrame(data)\n",
    "df"
   ]
  },
  {
   "cell_type": "markdown",
   "metadata": {},
   "source": [
    "sort df"
   ]
  },
  {
   "cell_type": "code",
   "execution_count": 97,
   "metadata": {},
   "outputs": [
    {
     "data": {
      "text/html": [
       "<div>\n",
       "<style scoped>\n",
       "    .dataframe tbody tr th:only-of-type {\n",
       "        vertical-align: middle;\n",
       "    }\n",
       "\n",
       "    .dataframe tbody tr th {\n",
       "        vertical-align: top;\n",
       "    }\n",
       "\n",
       "    .dataframe thead th {\n",
       "        text-align: right;\n",
       "    }\n",
       "</style>\n",
       "<table border=\"1\" class=\"dataframe\">\n",
       "  <thead>\n",
       "    <tr style=\"text-align: right;\">\n",
       "      <th></th>\n",
       "      <th>name</th>\n",
       "      <th>year</th>\n",
       "      <th>rate</th>\n",
       "      <th>director</th>\n",
       "    </tr>\n",
       "  </thead>\n",
       "  <tbody>\n",
       "    <tr>\n",
       "      <th>1</th>\n",
       "      <td>Three Billboards Outside Ebbing, Missouri</td>\n",
       "      <td>2017</td>\n",
       "      <td>8.1</td>\n",
       "      <td>Martin McDonagh</td>\n",
       "    </tr>\n",
       "    <tr>\n",
       "      <th>3</th>\n",
       "      <td>Whiplash</td>\n",
       "      <td>2014</td>\n",
       "      <td>8.5</td>\n",
       "      <td>Damien Chazelle</td>\n",
       "    </tr>\n",
       "    <tr>\n",
       "      <th>0</th>\n",
       "      <td>Short Term 12</td>\n",
       "      <td>2013</td>\n",
       "      <td>7.9</td>\n",
       "      <td>Destin Daniel Cretton</td>\n",
       "    </tr>\n",
       "    <tr>\n",
       "      <th>2</th>\n",
       "      <td>Her</td>\n",
       "      <td>2013</td>\n",
       "      <td>8.0</td>\n",
       "      <td>Spike Jonze</td>\n",
       "    </tr>\n",
       "  </tbody>\n",
       "</table>\n",
       "</div>"
      ],
      "text/plain": [
       "                                        name  year  rate  \\\n",
       "1  Three Billboards Outside Ebbing, Missouri  2017   8.1   \n",
       "3                                   Whiplash  2014   8.5   \n",
       "0                              Short Term 12  2013   7.9   \n",
       "2                                        Her  2013   8.0   \n",
       "\n",
       "                director  \n",
       "1        Martin McDonagh  \n",
       "3        Damien Chazelle  \n",
       "0  Destin Daniel Cretton  \n",
       "2            Spike Jonze  "
      ]
     },
     "execution_count": 97,
     "metadata": {},
     "output_type": "execute_result"
    }
   ],
   "source": [
    "df.sort_values('year',ascending=False)"
   ]
  },
  {
   "cell_type": "markdown",
   "metadata": {},
   "source": [
    "Create DataFrame With Inside Dic with List"
   ]
  },
  {
   "cell_type": "code",
   "execution_count": 121,
   "metadata": {},
   "outputs": [],
   "source": [
    "new_data = {'name':['Road House','The Shawshank Redemption'] ,\n",
    "            'year':[2024,1994],\n",
    "            'rate':[6.2,9.3],\n",
    "            'director':['Doug Liman','Frank Darabont'],\n",
    "            'actor':['Jake Gyllenhaal','Morgan Freeman']}"
   ]
  },
  {
   "cell_type": "code",
   "execution_count": 140,
   "metadata": {},
   "outputs": [],
   "source": [
    "df2 = pandas.DataFrame.from_dict(new_data,orient='columns')"
   ]
  },
  {
   "cell_type": "markdown",
   "metadata": {},
   "source": [
    "merage Two DataFrame"
   ]
  },
  {
   "cell_type": "code",
   "execution_count": 152,
   "metadata": {},
   "outputs": [],
   "source": [
    "result = pandas.concat([df,df2],ignore_index=True)"
   ]
  },
  {
   "cell_type": "markdown",
   "metadata": {},
   "source": [
    "check NaN"
   ]
  },
  {
   "cell_type": "code",
   "execution_count": 168,
   "metadata": {},
   "outputs": [],
   "source": [
    "name_list = result.loc[result['actor'].isnull()]['name']"
   ]
  },
  {
   "cell_type": "markdown",
   "metadata": {},
   "source": [
    "Update Data"
   ]
  },
  {
   "cell_type": "code",
   "execution_count": 185,
   "metadata": {},
   "outputs": [],
   "source": [
    "d = result.to_json(orient='records')\n",
    "d = json.loads(d)\n",
    "file = json.dumps(d,indent=4)\n",
    "with open('data2.json',\"w\") as f:\n",
    "    f.write(file)"
   ]
  },
  {
   "cell_type": "code",
   "execution_count": 186,
   "metadata": {},
   "outputs": [
    {
     "data": {
      "text/html": [
       "<div>\n",
       "<style scoped>\n",
       "    .dataframe tbody tr th:only-of-type {\n",
       "        vertical-align: middle;\n",
       "    }\n",
       "\n",
       "    .dataframe tbody tr th {\n",
       "        vertical-align: top;\n",
       "    }\n",
       "\n",
       "    .dataframe thead th {\n",
       "        text-align: right;\n",
       "    }\n",
       "</style>\n",
       "<table border=\"1\" class=\"dataframe\">\n",
       "  <thead>\n",
       "    <tr style=\"text-align: right;\">\n",
       "      <th></th>\n",
       "      <th>name</th>\n",
       "      <th>year</th>\n",
       "      <th>rate</th>\n",
       "      <th>director</th>\n",
       "      <th>actor</th>\n",
       "    </tr>\n",
       "  </thead>\n",
       "  <tbody>\n",
       "    <tr>\n",
       "      <th>0</th>\n",
       "      <td>Short Term 12</td>\n",
       "      <td>2013</td>\n",
       "      <td>7.9</td>\n",
       "      <td>Destin Daniel Cretton</td>\n",
       "      <td>Brie Larson</td>\n",
       "    </tr>\n",
       "    <tr>\n",
       "      <th>1</th>\n",
       "      <td>Three Billboards Outside Ebbing, Missouri</td>\n",
       "      <td>2017</td>\n",
       "      <td>8.1</td>\n",
       "      <td>Martin McDonagh</td>\n",
       "      <td>Frances McDormand</td>\n",
       "    </tr>\n",
       "    <tr>\n",
       "      <th>2</th>\n",
       "      <td>Her</td>\n",
       "      <td>2013</td>\n",
       "      <td>8.0</td>\n",
       "      <td>Spike Jonze</td>\n",
       "      <td>Joaquin Phoenix</td>\n",
       "    </tr>\n",
       "    <tr>\n",
       "      <th>3</th>\n",
       "      <td>Whiplash</td>\n",
       "      <td>2014</td>\n",
       "      <td>8.5</td>\n",
       "      <td>Damien Chazelle</td>\n",
       "      <td>Miles Teller</td>\n",
       "    </tr>\n",
       "    <tr>\n",
       "      <th>5</th>\n",
       "      <td>Road House</td>\n",
       "      <td>2024</td>\n",
       "      <td>6.2</td>\n",
       "      <td>Doug Liman</td>\n",
       "      <td>Jake Gyllenhaal</td>\n",
       "    </tr>\n",
       "    <tr>\n",
       "      <th>6</th>\n",
       "      <td>The Shawshank Redemption</td>\n",
       "      <td>1994</td>\n",
       "      <td>9.3</td>\n",
       "      <td>Frank Darabont</td>\n",
       "      <td>Morgan Freeman</td>\n",
       "    </tr>\n",
       "  </tbody>\n",
       "</table>\n",
       "</div>"
      ],
      "text/plain": [
       "                                        name  year rate  \\\n",
       "0                              Short Term 12  2013  7.9   \n",
       "1  Three Billboards Outside Ebbing, Missouri  2017  8.1   \n",
       "2                                        Her  2013  8.0   \n",
       "3                                   Whiplash  2014  8.5   \n",
       "5                                 Road House  2024  6.2   \n",
       "6                   The Shawshank Redemption  1994  9.3   \n",
       "\n",
       "                director              actor  \n",
       "0  Destin Daniel Cretton        Brie Larson  \n",
       "1        Martin McDonagh  Frances McDormand  \n",
       "2            Spike Jonze    Joaquin Phoenix  \n",
       "3        Damien Chazelle       Miles Teller  \n",
       "5             Doug Liman    Jake Gyllenhaal  \n",
       "6         Frank Darabont     Morgan Freeman  "
      ]
     },
     "execution_count": 186,
     "metadata": {},
     "output_type": "execute_result"
    }
   ],
   "source": [
    "result"
   ]
  },
  {
   "cell_type": "code",
   "execution_count": null,
   "metadata": {},
   "outputs": [],
   "source": []
  }
 ],
 "metadata": {
  "kernelspec": {
   "display_name": "Python 3",
   "language": "python",
   "name": "python3"
  },
  "language_info": {
   "codemirror_mode": {
    "name": "ipython",
    "version": 3
   },
   "file_extension": ".py",
   "mimetype": "text/x-python",
   "name": "python",
   "nbconvert_exporter": "python",
   "pygments_lexer": "ipython3",
   "version": "3.12.2"
  }
 },
 "nbformat": 4,
 "nbformat_minor": 2
}
